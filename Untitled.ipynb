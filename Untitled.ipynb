{
 "cells": [
  {
   "cell_type": "code",
   "execution_count": 1,
   "id": "c0fcc38d",
   "metadata": {},
   "outputs": [],
   "source": [
    "import pandas as pd \n",
    "import matplotlib.pyplot as plt \n",
    "import seaborn as sns "
   ]
  },
  {
   "cell_type": "code",
   "execution_count": 4,
   "id": "71bef8e2",
   "metadata": {},
   "outputs": [
    {
     "data": {
      "text/plain": [
       "QH555556/77    1\n",
       "QH596352/77    1\n",
       "QH596240/77    1\n",
       "QH596241/77    1\n",
       "QH596242/77    1\n",
       "              ..\n",
       "QH575394/77    1\n",
       "QH575305/77    1\n",
       "QH575306/77    1\n",
       "QH575307/77    1\n",
       "QH517269/77    1\n",
       "Name: Encrypt-Encounter, Length: 60769, dtype: int64"
      ]
     },
     "execution_count": 4,
     "metadata": {},
     "output_type": "execute_result"
    }
   ],
   "source": [
    "df = pd.read_excel('excel.xlsx')\n",
    "plain = df\n",
    "df['Encrypt-Encounter'].value_counts()"
   ]
  },
  {
   "cell_type": "code",
   "execution_count": 5,
   "id": "14b9c1c6",
   "metadata": {},
   "outputs": [
    {
     "name": "stdout",
     "output_type": "stream",
     "text": [
      "<class 'pandas.core.frame.DataFrame'>\n",
      "RangeIndex: 60769 entries, 0 to 60768\n",
      "Data columns (total 39 columns):\n",
      " #   Column                                 Non-Null Count  Dtype         \n",
      "---  ------                                 --------------  -----         \n",
      " 0   Encrypt-Encounter                      60769 non-null  object        \n",
      " 1   Age Group                              60769 non-null  object        \n",
      " 2   Gender                                 60769 non-null  object        \n",
      " 3   PresentingComplaintNum                 60769 non-null  int64         \n",
      " 4   PresentingComplaintDesc                60769 non-null  object        \n",
      " 5   PresentingComplaintCategory            60769 non-null  object        \n",
      " 6   TriageLevel                            60769 non-null  int64         \n",
      " 7   AdmitbyAmbulanceDesc                   60769 non-null  object        \n",
      " 8   AMB Arrive Date & Time                 15177 non-null  datetime64[ns]\n",
      " 9   AMB TOC Date & Time                    15178 non-null  datetime64[ns]\n",
      " 10  ED LOS Start                           60769 non-null  datetime64[ns]\n",
      " 11  Triage Date & Time                     60769 non-null  datetime64[ns]\n",
      " 12  Reg Date & Time                        60769 non-null  datetime64[ns]\n",
      " 13  PIA Date & Time                        58385 non-null  datetime64[ns]\n",
      " 14  Disposition Date & Time                60769 non-null  datetime64[ns]\n",
      " 15  Left ED Date & Time                    60768 non-null  datetime64[ns]\n",
      " 16  ED LOS End                             60769 non-null  datetime64[ns]\n",
      " 17  DischargeDisposition                   60769 non-null  int64         \n",
      " 18  DischargeDispositionDesc               60769 non-null  object        \n",
      " 19  InstitutionFromTypeDesc                2602 non-null   object        \n",
      " 20  InstitutionToTypeDesc                  8547 non-null   object        \n",
      " 21  AccessPrimaryHealthCareCodeDesc        60769 non-null  object        \n",
      " 22  MainDiagnosisCode                      60769 non-null  object        \n",
      " 23  MainDiagnosisCodeDesc                  60769 non-null  object        \n",
      " 24  FirstConsultServiceDesc                8354 non-null   object        \n",
      " 25  FirstConsultRequestDateTime            8354 non-null   object        \n",
      " 26  FirstConsultArrivalDateTime            8354 non-null   object        \n",
      " 27  SecondConsultServiceDesc               42 non-null     object        \n",
      " 28  SecondConsultRequestDateTime           42 non-null     object        \n",
      " 29  SecondConsultArrivalDateTime           42 non-null     datetime64[ns]\n",
      " 30  Diagnostic Imaging - Xray              60769 non-null  int64         \n",
      " 31  Diagnostic Imaging - CT                60769 non-null  int64         \n",
      " 32  Diagnostic Imaging - US                60769 non-null  int64         \n",
      " 33  Diagnostic Imaging - MRI               60769 non-null  int64         \n",
      " 34  Diagnostic Imaging - Nuclear Medicine  60769 non-null  int64         \n",
      " 35  Therapeutic Intervention               60769 non-null  int64         \n",
      " 36  Cognitive/Psychosocial Intervention    60769 non-null  int64         \n",
      " 37  Obstetrical/Fetal Intervention         60769 non-null  int64         \n",
      " 38  Other Diagnostic Intervention          60769 non-null  int64         \n",
      "dtypes: datetime64[ns](10), int64(12), object(17)\n",
      "memory usage: 18.1+ MB\n"
     ]
    }
   ],
   "source": [
    "df.info()"
   ]
  },
  {
   "cell_type": "code",
   "execution_count": null,
   "id": "0475a00d",
   "metadata": {},
   "outputs": [],
   "source": []
  },
  {
   "cell_type": "code",
   "execution_count": 230,
   "id": "b9a3ecfa",
   "metadata": {},
   "outputs": [
    {
     "data": {
      "text/plain": [
       "60769"
      ]
     },
     "execution_count": 230,
     "metadata": {},
     "output_type": "execute_result"
    }
   ],
   "source": [
    "df['PresentingComplaintCategory'].value_counts()\n",
    "df['Encrypt-Encounter'].nunique()"
   ]
  },
  {
   "cell_type": "code",
   "execution_count": 190,
   "id": "b28a04de",
   "metadata": {},
   "outputs": [
    {
     "data": {
      "text/plain": [
       "3    33564\n",
       "2    19101\n",
       "4     5603\n",
       "5     2007\n",
       "1      481\n",
       "9       13\n",
       "Name: TriageLevel, dtype: int64"
      ]
     },
     "execution_count": 190,
     "metadata": {},
     "output_type": "execute_result"
    }
   ],
   "source": [
    "plain['TriageLevel'].value_counts()"
   ]
  },
  {
   "cell_type": "code",
   "execution_count": 231,
   "id": "f3736fa5",
   "metadata": {},
   "outputs": [],
   "source": [
    "df = plain\n",
    "levels = {1 : 'Resuscitation - Level 1', 2 : 'Emergent - Level 2', 3: 'Urgent - Level 3', 4 : 'Less Urgent - Level 4', 5 : 'Non-Urgent - Level 5'}\n",
    "df['TriageLevel'] = df['TriageLevel'].map(levels)\n",
    "\n",
    "y = df['TriageLevel'].value_counts()\n",
    "x = ['Urgent - Level 3', 'Emergent - Level 2', 'Less Urgent - Level 4', 'Non-Urgent - Level 5', 'Resuscitation - Level 1']"
   ]
  },
  {
   "cell_type": "code",
   "execution_count": 232,
   "id": "f249c754",
   "metadata": {},
   "outputs": [
    {
     "data": {
      "image/png": "[encoded data removed]",
      "text/plain": [
       "<Figure size 432x288 with 1 Axes>"
      ]
     },
     "metadata": {
      "needs_background": "light"
     },
     "output_type": "display_data"
    }
   ],
   "source": [
    "data = {'TriageLevel' : x, 'Patients': y}\n",
    "\n",
    "ax = sns.barplot(x='TriageLevel', y='Patients', data=data, color='green')\n",
    "\n",
    "# add title and labels to the graph\n",
    "plt.title('Patient Admission and Triage Level')\n",
    "plt.xlabel('Triage Level')\n",
    "plt.ylabel('Patients Admitted')\n",
    "ax.set_xticklabels(x, rotation=90)\n",
    "ax.get_figure().savefig('Patient-Admission-and-Triage-Level.png')"
   ]
  },
  {
   "cell_type": "code",
   "execution_count": 233,
   "id": "a42f6aa6",
   "metadata": {},
   "outputs": [
    {
     "data": {
      "text/html": [
       "<div>\n",
       "<style scoped>\n",
       "    .dataframe tbody tr th:only-of-type {\n",
       "        vertical-align: middle;\n",
       "    }\n",
       "\n",
       "    .dataframe tbody tr th {\n",
       "        vertical-align: top;\n",
       "    }\n",
       "\n",
       "    .dataframe thead th {\n",
       "        text-align: right;\n",
       "    }\n",
       "</style>\n",
       "<table border=\"1\" class=\"dataframe\">\n",
       "  <thead>\n",
       "    <tr style=\"text-align: right;\">\n",
       "      <th></th>\n",
       "      <th>Triage Date &amp; Time</th>\n",
       "      <th>Left ED Date &amp; Time</th>\n",
       "      <th>Encrypt-Encounter</th>\n",
       "    </tr>\n",
       "  </thead>\n",
       "  <tbody>\n",
       "    <tr>\n",
       "      <th>0</th>\n",
       "      <td>2022-06-09 23:56:00</td>\n",
       "      <td>2022-06-10 02:04:00</td>\n",
       "      <td>QH555556/77</td>\n",
       "    </tr>\n",
       "    <tr>\n",
       "      <th>1</th>\n",
       "      <td>2022-06-09 23:59:00</td>\n",
       "      <td>2022-06-10 10:05:00</td>\n",
       "      <td>QH555557/77</td>\n",
       "    </tr>\n",
       "    <tr>\n",
       "      <th>2</th>\n",
       "      <td>2022-06-10 00:00:00</td>\n",
       "      <td>2022-06-10 02:40:00</td>\n",
       "      <td>QH555558/77</td>\n",
       "    </tr>\n",
       "    <tr>\n",
       "      <th>3</th>\n",
       "      <td>2022-06-10 00:05:00</td>\n",
       "      <td>2022-06-10 09:16:00</td>\n",
       "      <td>QH555559/77</td>\n",
       "    </tr>\n",
       "    <tr>\n",
       "      <th>4</th>\n",
       "      <td>2022-06-10 00:04:00</td>\n",
       "      <td>2022-06-10 11:04:00</td>\n",
       "      <td>QH555550/77</td>\n",
       "    </tr>\n",
       "    <tr>\n",
       "      <th>5</th>\n",
       "      <td>2022-06-10 00:18:00</td>\n",
       "      <td>2022-06-10 06:55:00</td>\n",
       "      <td>QH555551/77</td>\n",
       "    </tr>\n",
       "    <tr>\n",
       "      <th>6</th>\n",
       "      <td>2022-06-10 00:17:00</td>\n",
       "      <td>2022-06-10 04:31:00</td>\n",
       "      <td>QH555552/77</td>\n",
       "    </tr>\n",
       "    <tr>\n",
       "      <th>7</th>\n",
       "      <td>2022-06-10 00:28:00</td>\n",
       "      <td>2022-06-10 06:55:00</td>\n",
       "      <td>QH555553/77</td>\n",
       "    </tr>\n",
       "    <tr>\n",
       "      <th>8</th>\n",
       "      <td>2022-06-10 00:35:00</td>\n",
       "      <td>2022-06-10 11:45:00</td>\n",
       "      <td>QH555554/77</td>\n",
       "    </tr>\n",
       "    <tr>\n",
       "      <th>9</th>\n",
       "      <td>2022-06-10 00:37:00</td>\n",
       "      <td>2022-06-10 05:36:00</td>\n",
       "      <td>QH555565/77</td>\n",
       "    </tr>\n",
       "  </tbody>\n",
       "</table>\n",
       "</div>"
      ],
      "text/plain": [
       "   Triage Date & Time Left ED Date & Time Encrypt-Encounter\n",
       "0 2022-06-09 23:56:00 2022-06-10 02:04:00       QH555556/77\n",
       "1 2022-06-09 23:59:00 2022-06-10 10:05:00       QH555557/77\n",
       "2 2022-06-10 00:00:00 2022-06-10 02:40:00       QH555558/77\n",
       "3 2022-06-10 00:05:00 2022-06-10 09:16:00       QH555559/77\n",
       "4 2022-06-10 00:04:00 2022-06-10 11:04:00       QH555550/77\n",
       "5 2022-06-10 00:18:00 2022-06-10 06:55:00       QH555551/77\n",
       "6 2022-06-10 00:17:00 2022-06-10 04:31:00       QH555552/77\n",
       "7 2022-06-10 00:28:00 2022-06-10 06:55:00       QH555553/77\n",
       "8 2022-06-10 00:35:00 2022-06-10 11:45:00       QH555554/77\n",
       "9 2022-06-10 00:37:00 2022-06-10 05:36:00       QH555565/77"
      ]
     },
     "execution_count": 233,
     "metadata": {},
     "output_type": "execute_result"
    }
   ],
   "source": [
    "times = df[['Triage Date & Time', 'Left ED Date & Time', 'Encrypt-Encounter']]\n",
    "times.head(10)"
   ]
  },
  {
   "cell_type": "code",
   "execution_count": 234,
   "id": "c1147cfa",
   "metadata": {},
   "outputs": [],
   "source": [
    "times = times.rename(columns={'Triage Date & Time' : 'Enter', 'Left ED Date & Time': 'Exit'})"
   ]
  },
  {
   "cell_type": "code",
   "execution_count": 235,
   "id": "693cc97d",
   "metadata": {},
   "outputs": [],
   "source": [
    "times['Enter Time'] = times['Enter'].dt.time\n",
    "times['Exit Time'] = times['Exit'].dt.time\n",
    "times['Time Spent'] = times['Exit'] - times['Enter']"
   ]
  },
  {
   "cell_type": "code",
   "execution_count": 236,
   "id": "5c537d77",
   "metadata": {},
   "outputs": [
    {
     "data": {
      "text/html": [
       "<div>\n",
       "<style scoped>\n",
       "    .dataframe tbody tr th:only-of-type {\n",
       "        vertical-align: middle;\n",
       "    }\n",
       "\n",
       "    .dataframe tbody tr th {\n",
       "        vertical-align: top;\n",
       "    }\n",
       "\n",
       "    .dataframe thead th {\n",
       "        text-align: right;\n",
       "    }\n",
       "</style>\n",
       "<table border=\"1\" class=\"dataframe\">\n",
       "  <thead>\n",
       "    <tr style=\"text-align: right;\">\n",
       "      <th></th>\n",
       "      <th>Enter</th>\n",
       "      <th>Exit</th>\n",
       "      <th>Encrypt-Encounter</th>\n",
       "      <th>Enter Time</th>\n",
       "      <th>Exit Time</th>\n",
       "      <th>Time Spent</th>\n",
       "    </tr>\n",
       "  </thead>\n",
       "  <tbody>\n",
       "    <tr>\n",
       "      <th>0</th>\n",
       "      <td>2022-06-09 23:56:00</td>\n",
       "      <td>2022-06-10 02:04:00</td>\n",
       "      <td>QH555556/77</td>\n",
       "      <td>23:56:00</td>\n",
       "      <td>02:04:00</td>\n",
       "      <td>0 days 02:08:00</td>\n",
       "    </tr>\n",
       "    <tr>\n",
       "      <th>1</th>\n",
       "      <td>2022-06-09 23:59:00</td>\n",
       "      <td>2022-06-10 10:05:00</td>\n",
       "      <td>QH555557/77</td>\n",
       "      <td>23:59:00</td>\n",
       "      <td>10:05:00</td>\n",
       "      <td>0 days 10:06:00</td>\n",
       "    </tr>\n",
       "    <tr>\n",
       "      <th>2</th>\n",
       "      <td>2022-06-10 00:00:00</td>\n",
       "      <td>2022-06-10 02:40:00</td>\n",
       "      <td>QH555558/77</td>\n",
       "      <td>00:00:00</td>\n",
       "      <td>02:40:00</td>\n",
       "      <td>0 days 02:40:00</td>\n",
       "    </tr>\n",
       "    <tr>\n",
       "      <th>3</th>\n",
       "      <td>2022-06-10 00:05:00</td>\n",
       "      <td>2022-06-10 09:16:00</td>\n",
       "      <td>QH555559/77</td>\n",
       "      <td>00:05:00</td>\n",
       "      <td>09:16:00</td>\n",
       "      <td>0 days 09:11:00</td>\n",
       "    </tr>\n",
       "    <tr>\n",
       "      <th>4</th>\n",
       "      <td>2022-06-10 00:04:00</td>\n",
       "      <td>2022-06-10 11:04:00</td>\n",
       "      <td>QH555550/77</td>\n",
       "      <td>00:04:00</td>\n",
       "      <td>11:04:00</td>\n",
       "      <td>0 days 11:00:00</td>\n",
       "    </tr>\n",
       "    <tr>\n",
       "      <th>...</th>\n",
       "      <td>...</td>\n",
       "      <td>...</td>\n",
       "      <td>...</td>\n",
       "      <td>...</td>\n",
       "      <td>...</td>\n",
       "      <td>...</td>\n",
       "    </tr>\n",
       "    <tr>\n",
       "      <th>60764</th>\n",
       "      <td>2022-12-09 23:34:00</td>\n",
       "      <td>2022-12-10 03:45:00</td>\n",
       "      <td>QH517265/77</td>\n",
       "      <td>23:34:00</td>\n",
       "      <td>03:45:00</td>\n",
       "      <td>0 days 04:11:00</td>\n",
       "    </tr>\n",
       "    <tr>\n",
       "      <th>60765</th>\n",
       "      <td>2022-12-09 23:36:00</td>\n",
       "      <td>2022-12-10 03:37:00</td>\n",
       "      <td>QH517266/77</td>\n",
       "      <td>23:36:00</td>\n",
       "      <td>03:37:00</td>\n",
       "      <td>0 days 04:01:00</td>\n",
       "    </tr>\n",
       "    <tr>\n",
       "      <th>60766</th>\n",
       "      <td>2022-12-09 23:35:00</td>\n",
       "      <td>2022-12-10 09:24:00</td>\n",
       "      <td>QH517267/77</td>\n",
       "      <td>23:35:00</td>\n",
       "      <td>09:24:00</td>\n",
       "      <td>0 days 09:49:00</td>\n",
       "    </tr>\n",
       "    <tr>\n",
       "      <th>60767</th>\n",
       "      <td>2022-12-09 23:46:00</td>\n",
       "      <td>2022-12-10 05:30:00</td>\n",
       "      <td>QH517268/77</td>\n",
       "      <td>23:46:00</td>\n",
       "      <td>05:30:00</td>\n",
       "      <td>0 days 05:44:00</td>\n",
       "    </tr>\n",
       "    <tr>\n",
       "      <th>60768</th>\n",
       "      <td>2022-12-09 23:43:00</td>\n",
       "      <td>2022-12-10 03:43:00</td>\n",
       "      <td>QH517269/77</td>\n",
       "      <td>23:43:00</td>\n",
       "      <td>03:43:00</td>\n",
       "      <td>0 days 04:00:00</td>\n",
       "    </tr>\n",
       "  </tbody>\n",
       "</table>\n",
       "<p>60769 rows × 6 columns</p>\n",
       "</div>"
      ],
      "text/plain": [
       "                    Enter                Exit Encrypt-Encounter Enter Time  \\\n",
       "0     2022-06-09 23:56:00 2022-06-10 02:04:00       QH555556/77   23:56:00   \n",
       "1     2022-06-09 23:59:00 2022-06-10 10:05:00       QH555557/77   23:59:00   \n",
       "2     2022-06-10 00:00:00 2022-06-10 02:40:00       QH555558/77   00:00:00   \n",
       "3     2022-06-10 00:05:00 2022-06-10 09:16:00       QH555559/77   00:05:00   \n",
       "4     2022-06-10 00:04:00 2022-06-10 11:04:00       QH555550/77   00:04:00   \n",
       "...                   ...                 ...               ...        ...   \n",
       "60764 2022-12-09 23:34:00 2022-12-10 03:45:00       QH517265/77   23:34:00   \n",
       "60765 2022-12-09 23:36:00 2022-12-10 03:37:00       QH517266/77   23:36:00   \n",
       "60766 2022-12-09 23:35:00 2022-12-10 09:24:00       QH517267/77   23:35:00   \n",
       "60767 2022-12-09 23:46:00 2022-12-10 05:30:00       QH517268/77   23:46:00   \n",
       "60768 2022-12-09 23:43:00 2022-12-10 03:43:00       QH517269/77   23:43:00   \n",
       "\n",
       "      Exit Time      Time Spent  \n",
       "0      02:04:00 0 days 02:08:00  \n",
       "1      10:05:00 0 days 10:06:00  \n",
       "2      02:40:00 0 days 02:40:00  \n",
       "3      09:16:00 0 days 09:11:00  \n",
       "4      11:04:00 0 days 11:00:00  \n",
       "...         ...             ...  \n",
       "60764  03:45:00 0 days 04:11:00  \n",
       "60765  03:37:00 0 days 04:01:00  \n",
       "60766  09:24:00 0 days 09:49:00  \n",
       "60767  05:30:00 0 days 05:44:00  \n",
       "60768  03:43:00 0 days 04:00:00  \n",
       "\n",
       "[60769 rows x 6 columns]"
      ]
     },
     "execution_count": 236,
     "metadata": {},
     "output_type": "execute_result"
    }
   ],
   "source": [
    "times"
   ]
  },
  {
   "cell_type": "code",
   "execution_count": 237,
   "id": "d00b967b",
   "metadata": {},
   "outputs": [],
   "source": [
    "df = df.rename(columns={'Triage Date & Time' : 'Enter', 'Left ED Date & Time': 'Exit'})\n",
    "df['Time Spent'] = df['Exit'] - df['Enter']\n",
    "df[['PresentingComplaintDesc', 'PresentingComplaintCategory', 'Enter', 'Exit', 'Time Spent']].head(40)\n",
    "\n",
    "df['Total Seconds'] = df['Time Spent'].apply(lambda x: x.total_seconds())"
   ]
  },
  {
   "cell_type": "code",
   "execution_count": 238,
   "id": "9e07dc59",
   "metadata": {},
   "outputs": [
    {
     "name": "stdout",
     "output_type": "stream",
     "text": [
      "<class 'pandas.core.frame.DataFrame'>\n",
      "RangeIndex: 60769 entries, 0 to 60768\n",
      "Data columns (total 41 columns):\n",
      " #   Column                                 Non-Null Count  Dtype          \n",
      "---  ------                                 --------------  -----          \n",
      " 0   Encrypt-Encounter                      60769 non-null  object         \n",
      " 1   Age Group                              60769 non-null  object         \n",
      " 2   Gender                                 60769 non-null  object         \n",
      " 3   PresentingComplaintNum                 60769 non-null  int64          \n",
      " 4   PresentingComplaintDesc                60769 non-null  object         \n",
      " 5   PresentingComplaintCategory            60769 non-null  object         \n",
      " 6   TriageLevel                            60756 non-null  object         \n",
      " 7   AdmitbyAmbulanceDesc                   60769 non-null  object         \n",
      " 8   AMB Arrive Date & Time                 15177 non-null  datetime64[ns] \n",
      " 9   AMB TOC Date & Time                    15178 non-null  datetime64[ns] \n",
      " 10  ED LOS Start                           60769 non-null  datetime64[ns] \n",
      " 11  Enter                                  60769 non-null  datetime64[ns] \n",
      " 12  Reg Date & Time                        60769 non-null  datetime64[ns] \n",
      " 13  PIA Date & Time                        58385 non-null  datetime64[ns] \n",
      " 14  Disposition Date & Time                60769 non-null  datetime64[ns] \n",
      " 15  Exit                                   60768 non-null  datetime64[ns] \n",
      " 16  ED LOS End                             60769 non-null  datetime64[ns] \n",
      " 17  DischargeDisposition                   60769 non-null  int64          \n",
      " 18  DischargeDispositionDesc               60769 non-null  object         \n",
      " 19  InstitutionFromTypeDesc                2602 non-null   object         \n",
      " 20  InstitutionToTypeDesc                  8547 non-null   object         \n",
      " 21  AccessPrimaryHealthCareCodeDesc        60769 non-null  object         \n",
      " 22  MainDiagnosisCode                      60769 non-null  object         \n",
      " 23  MainDiagnosisCodeDesc                  60769 non-null  object         \n",
      " 24  FirstConsultServiceDesc                8354 non-null   object         \n",
      " 25  FirstConsultRequestDateTime            8354 non-null   object         \n",
      " 26  FirstConsultArrivalDateTime            8354 non-null   object         \n",
      " 27  SecondConsultServiceDesc               42 non-null     object         \n",
      " 28  SecondConsultRequestDateTime           42 non-null     object         \n",
      " 29  SecondConsultArrivalDateTime           42 non-null     datetime64[ns] \n",
      " 30  Diagnostic Imaging - Xray              60769 non-null  int64          \n",
      " 31  Diagnostic Imaging - CT                60769 non-null  int64          \n",
      " 32  Diagnostic Imaging - US                60769 non-null  int64          \n",
      " 33  Diagnostic Imaging - MRI               60769 non-null  int64          \n",
      " 34  Diagnostic Imaging - Nuclear Medicine  60769 non-null  int64          \n",
      " 35  Therapeutic Intervention               60769 non-null  int64          \n",
      " 36  Cognitive/Psychosocial Intervention    60769 non-null  int64          \n",
      " 37  Obstetrical/Fetal Intervention         60769 non-null  int64          \n",
      " 38  Other Diagnostic Intervention          60769 non-null  int64          \n",
      " 39  Time Spent                             60768 non-null  timedelta64[ns]\n",
      " 40  Total Seconds                          60768 non-null  float64        \n",
      "dtypes: datetime64[ns](10), float64(1), int64(11), object(18), timedelta64[ns](1)\n",
      "memory usage: 19.0+ MB\n"
     ]
    }
   ],
   "source": [
    "df.info()\n",
    "long = df[df['Total Seconds'] > 18000]"
   ]
  },
  {
   "cell_type": "code",
   "execution_count": 239,
   "id": "e6d0bf48",
   "metadata": {},
   "outputs": [
    {
     "data": {
      "text/plain": [
       "[Text(0, 0, 'Abdominal pain'),\n",
       " Text(1, 0, 'Chest pain - cardiac features'),\n",
       " Text(2, 0, 'Shortness of breath'),\n",
       " Text(3, 0, 'General weakness'),\n",
       " Text(4, 0, 'Fever'),\n",
       " Text(5, 0, 'Depression/suicidal/deliberate self-harm'),\n",
       " Text(6, 0, 'Nausea and/or vomiting'),\n",
       " Text(7, 0, 'Headache'),\n",
       " Text(8, 0, 'Head injury'),\n",
       " Text(9, 0, 'Lower extremity pain')]"
      ]
     },
     "execution_count": 239,
     "metadata": {},
     "output_type": "execute_result"
    },
    {
     "data": {
      "image/png": "[encoded data removed]",
      "text/plain": [
       "<Figure size 432x288 with 1 Axes>"
      ]
     },
     "metadata": {
      "needs_background": "light"
     },
     "output_type": "display_data"
    }
   ],
   "source": [
    "y = long['PresentingComplaintDesc'].value_counts()[:10]\n",
    "x = y.index[:10]\n",
    "\n",
    "data = {'Condition' : x, 'Patients': y}\n",
    "\n",
    "ax = sns.barplot(x='Condition', y='Patients', data=data, color='green')\n",
    "\n",
    "# add title and labels to the graph\n",
    "plt.title('Patients and Condition who have been waiting longer than 10 hours')\n",
    "plt.xlabel('Condition')\n",
    "plt.ylabel('Patients Admitted')\n",
    "ax.set_xticklabels(x, rotation=90)"
   ]
  },
  {
   "cell_type": "code",
   "execution_count": 240,
   "id": "614b073e",
   "metadata": {},
   "outputs": [
    {
     "name": "stdout",
     "output_type": "stream",
     "text": [
      "Abdominal pain\n",
      "Urgent - Level 3         3133\n",
      "Emergent - Level 2       2232\n",
      "Less Urgent - Level 4     117\n",
      "Non-Urgent - Level 5       23\n",
      "Name: TriageLevel, dtype: int64\n",
      "Chest pain - cardiac features\n",
      "Emergent - Level 2         4170\n",
      "Urgent - Level 3             46\n",
      "Resuscitation - Level 1       7\n",
      "Non-Urgent - Level 5          4\n",
      "Less Urgent - Level 4         4\n",
      "Name: TriageLevel, dtype: int64\n",
      "Shortness of breath\n",
      "Urgent - Level 3           1226\n",
      "Emergent - Level 2         1042\n",
      "Resuscitation - Level 1     125\n",
      "Less Urgent - Level 4       109\n",
      "Non-Urgent - Level 5          2\n",
      "Name: TriageLevel, dtype: int64\n",
      "General weakness\n",
      "Urgent - Level 3           1199\n",
      "Emergent - Level 2          408\n",
      "Less Urgent - Level 4       103\n",
      "Resuscitation - Level 1       5\n",
      "Non-Urgent - Level 5          1\n",
      "Name: TriageLevel, dtype: int64\n",
      "Fever\n",
      "Urgent - Level 3           1779\n",
      "Emergent - Level 2         1337\n",
      "Less Urgent - Level 4       212\n",
      "Resuscitation - Level 1      18\n",
      "Name: TriageLevel, dtype: int64\n",
      "Depression/suicidal/deliberate self-harm\n",
      "Urgent - Level 3           608\n",
      "Emergent - Level 2         471\n",
      "Less Urgent - Level 4       52\n",
      "Resuscitation - Level 1      1\n",
      "Name: TriageLevel, dtype: int64\n",
      "Nausea and/or vomiting\n",
      "Urgent - Level 3           929\n",
      "Emergent - Level 2         359\n",
      "Less Urgent - Level 4       79\n",
      "Non-Urgent - Level 5        30\n",
      "Resuscitation - Level 1      1\n",
      "Name: TriageLevel, dtype: int64\n",
      "Headache\n",
      "Urgent - Level 3         906\n",
      "Emergent - Level 2       464\n",
      "Less Urgent - Level 4     79\n",
      "Non-Urgent - Level 5      21\n",
      "Name: TriageLevel, dtype: int64\n",
      "Head injury\n",
      "Urgent - Level 3           874\n",
      "Emergent - Level 2         475\n",
      "Less Urgent - Level 4      115\n",
      "Resuscitation - Level 1      5\n",
      "Non-Urgent - Level 5         1\n",
      "Name: TriageLevel, dtype: int64\n",
      "Lower extremity pain\n",
      "Urgent - Level 3         1276\n",
      "Less Urgent - Level 4     384\n",
      "Emergent - Level 2        174\n",
      "Non-Urgent - Level 5       72\n",
      "Name: TriageLevel, dtype: int64\n"
     ]
    }
   ],
   "source": [
    "conditions = df[df['PresentingComplaintDesc'].isin(x)]\n",
    "group = conditions.groupby('PresentingComplaintDesc')\n",
    "\n",
    "data = {} \n",
    "for cond in x: \n",
    "    print(cond)\n",
    "    print(df[df['PresentingComplaintDesc'] == cond]['TriageLevel'].value_counts())\n",
    "    \n"
   ]
  },
  {
   "cell_type": "code",
   "execution_count": 247,
   "id": "642fce84",
   "metadata": {},
   "outputs": [
    {
     "data": {
      "text/html": [
       "<div>\n",
       "<style scoped>\n",
       "    .dataframe tbody tr th:only-of-type {\n",
       "        vertical-align: middle;\n",
       "    }\n",
       "\n",
       "    .dataframe tbody tr th {\n",
       "        vertical-align: top;\n",
       "    }\n",
       "\n",
       "    .dataframe thead th {\n",
       "        text-align: right;\n",
       "    }\n",
       "</style>\n",
       "<table border=\"1\" class=\"dataframe\">\n",
       "  <thead>\n",
       "    <tr style=\"text-align: right;\">\n",
       "      <th></th>\n",
       "      <th>AvgTime</th>\n",
       "    </tr>\n",
       "    <tr>\n",
       "      <th>TriageLevel</th>\n",
       "      <th></th>\n",
       "    </tr>\n",
       "  </thead>\n",
       "  <tbody>\n",
       "    <tr>\n",
       "      <th>Emergent - Level 2</th>\n",
       "      <td>9.0</td>\n",
       "    </tr>\n",
       "    <tr>\n",
       "      <th>Less Urgent - Level 4</th>\n",
       "      <td>3.0</td>\n",
       "    </tr>\n",
       "    <tr>\n",
       "      <th>Non-Urgent - Level 5</th>\n",
       "      <td>3.0</td>\n",
       "    </tr>\n",
       "    <tr>\n",
       "      <th>Resuscitation - Level 1</th>\n",
       "      <td>12.0</td>\n",
       "    </tr>\n",
       "    <tr>\n",
       "      <th>Urgent - Level 3</th>\n",
       "      <td>7.0</td>\n",
       "    </tr>\n",
       "  </tbody>\n",
       "</table>\n",
       "</div>"
      ],
      "text/plain": [
       "                         AvgTime\n",
       "TriageLevel                     \n",
       "Emergent - Level 2           9.0\n",
       "Less Urgent - Level 4        3.0\n",
       "Non-Urgent - Level 5         3.0\n",
       "Resuscitation - Level 1     12.0\n",
       "Urgent - Level 3             7.0"
      ]
     },
     "execution_count": 247,
     "metadata": {},
     "output_type": "execute_result"
    }
   ],
   "source": [
    "triage_avg = df[['TriageLevel', 'Total Seconds']]\n",
    "average_times = triage_avg.groupby('TriageLevel').mean()\n",
    "average_times = average_times.rename(columns={'Total Seconds':'AvgTime'})\n",
    "average_times['AvgTime'] = average_times['AvgTime'].apply(lambda x: round(x/3600, 0))\n",
    "average_times"
   ]
  },
  {
   "cell_type": "code",
   "execution_count": 248,
   "id": "fed96c89",
   "metadata": {},
   "outputs": [
    {
     "data": {
      "text/plain": [
       "[Text(0, 0, 'Emergent - Level 2'),\n",
       " Text(1, 0, 'Less Urgent - Level 4'),\n",
       " Text(2, 0, 'Non-Urgent - Level 5'),\n",
       " Text(3, 0, 'Resuscitation - Level 1'),\n",
       " Text(4, 0, 'Urgent - Level 3')]"
      ]
     },
     "execution_count": 248,
     "metadata": {},
     "output_type": "execute_result"
    },
    {
     "data": {
      "image/png": "[encoded data removed]",
      "text/plain": [
       "<Figure size 432x288 with 1 Axes>"
      ]
     },
     "metadata": {
      "needs_background": "light"
     },
     "output_type": "display_data"
    }
   ],
   "source": [
    "average_times['TriageLevel'] = average_times.index\n",
    "\n",
    "ax = sns.barplot(x='TriageLevel', y='AvgTime', data=average_times, color='green')\n",
    "\n",
    "# add title and labels to the graph\n",
    "plt.title('Average Time spent in ER based on Triage Level')\n",
    "plt.xlabel('Triage Level')\n",
    "plt.ylabel('Time Spent (hours)')\n",
    "ax.set_xticklabels(average_times['TriageLevel'], rotation=90)"
   ]
  },
  {
   "cell_type": "code",
   "execution_count": 249,
   "id": "268cfaed",
   "metadata": {},
   "outputs": [],
   "source": [
    "age = df['Age Group'].value_counts()\n",
    "\n",
    "summ = age.sum() \n",
    "\n",
    "age = pd.DataFrame(age)\n",
    "age['Percentage'] = age['Age Group'].apply(lambda x: round(x/summ, 2)*100)\n",
    "age['Age Group'] = age.index"
   ]
  },
  {
   "cell_type": "code",
   "execution_count": 252,
   "id": "80266e42",
   "metadata": {},
   "outputs": [
    {
     "data": {
      "text/plain": [
       "Text(0, 0.5, 'Percentage')"
      ]
     },
     "execution_count": 252,
     "metadata": {},
     "output_type": "execute_result"
    },
    {
     "data": {
      "image/png": "[encoded data removed]",
      "text/plain": [
       "<Figure size 432x288 with 1 Axes>"
      ]
     },
     "metadata": {
      "needs_background": "light"
     },
     "output_type": "display_data"
    }
   ],
   "source": [
    "ax = sns.barplot(x='Age Group', y='Percentage', data=age, color='green')\n",
    "\n",
    "# add title and labels to the graph\n",
    "plt.title('Population Percentage Based on Age Group')\n",
    "plt.xlabel('Age Group')\n",
    "plt.ylabel('Percentage')\n"
   ]
  },
  {
   "cell_type": "code",
   "execution_count": null,
   "id": "b6b41f99",
   "metadata": {},
   "outputs": [],
   "source": []
  }
 ],
 "metadata": {
  "kernelspec": {
   "display_name": "Python 3 (ipykernel)",
   "language": "python",
   "name": "python3"
  },
  "language_info": {
   "codemirror_mode": {
    "name": "ipython",
    "version": 3
   },
   "file_extension": ".py",
   "mimetype": "text/x-python",
   "name": "python",
   "nbconvert_exporter": "python",
   "pygments_lexer": "ipython3",
   "version": "3.9.12"
  }
 },
 "nbformat": 4,
 "nbformat_minor": 5
}
